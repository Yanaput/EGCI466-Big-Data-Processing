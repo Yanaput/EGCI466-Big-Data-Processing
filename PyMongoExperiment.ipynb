{
  "nbformat": 4,
  "nbformat_minor": 0,
  "metadata": {
    "colab": {
      "provenance": []
    },
    "kernelspec": {
      "name": "python3",
      "display_name": "Python 3"
    },
    "language_info": {
      "name": "python"
    }
  },
  "cells": [
    {
      "cell_type": "markdown",
      "source": [
        "# Set up"
      ],
      "metadata": {
        "id": "wPBd9RqTtzwx"
      }
    },
    {
      "cell_type": "code",
      "execution_count": null,
      "metadata": {
        "id": "vjc_N5fYtfm6",
        "colab": {
          "base_uri": "https://localhost:8080/"
        },
        "outputId": "23017979-5056-483f-bb5d-d7a9ce4efe04"
      },
      "outputs": [
        {
          "output_type": "stream",
          "name": "stdout",
          "text": [
            "Collecting pymongo[srv,tls]\n",
            "  Downloading pymongo-4.7.2-cp310-cp310-manylinux_2_17_x86_64.manylinux2014_x86_64.whl (670 kB)\n",
            "\u001b[2K     \u001b[90m━━━━━━━━━━━━━━━━━━━━━━━━━━━━━━━━━━━━━━━━\u001b[0m \u001b[32m670.0/670.0 kB\u001b[0m \u001b[31m8.8 MB/s\u001b[0m eta \u001b[36m0:00:00\u001b[0m\n",
            "\u001b[?25hCollecting dnspython<3.0.0,>=1.16.0 (from pymongo[srv,tls])\n",
            "  Downloading dnspython-2.6.1-py3-none-any.whl (307 kB)\n",
            "\u001b[2K     \u001b[90m━━━━━━━━━━━━━━━━━━━━━━━━━━━━━━━━━━━━━━━━\u001b[0m \u001b[32m307.7/307.7 kB\u001b[0m \u001b[31m25.3 MB/s\u001b[0m eta \u001b[36m0:00:00\u001b[0m\n",
            "\u001b[?25hInstalling collected packages: dnspython, pymongo\n",
            "Successfully installed dnspython-2.6.1 pymongo-4.7.2\n",
            "Requirement already satisfied: dnspython in /usr/local/lib/python3.10/dist-packages (2.6.1)\n"
          ]
        }
      ],
      "source": [
        "! pip  install pymongo[srv,tls]\n",
        "! pip install dnspython"
      ]
    },
    {
      "cell_type": "code",
      "source": [
        "from pymongo.mongo_client import MongoClient\n",
        "from datetime import date\n",
        "from contextlib import nullcontext\n",
        "\n",
        "uri = \"mongodb+srv://yanaput:<password>@workshop-bakery.qtngygm.mongodb.net/?retryWrites=true&w=majority&appName=Workshop-Bakery\"\n",
        "\n",
        "client = MongoClient(uri)\n",
        "try:\n",
        "    client.admin.command('ping')\n",
        "    print(\"Pinged your deployment. You successfully connected to MongoDB!\")\n",
        "except Exception as e:\n",
        "    print(e)\n",
        "\n",
        "db = client.Bakery\n",
        "\n"
      ],
      "metadata": {
        "id": "uIuFagicuIHR"
      },
      "execution_count": null,
      "outputs": []
    },
    {
      "cell_type": "code",
      "source": [
        "#@title Cake Info\n",
        "\n",
        "Name = \"exampleCake\" #@param {type:\"string\"}\n",
        "ShortDescription = \"example\" #@param {type:\"string\"}\n",
        "Description = \"example\" #@param {type:\"string\"}\n",
        "Image = \"exampleURL\" #@param {type:\"string\"}\n",
        "Ingredient = \"exampleIngre0, exampleIngre1, exampleIngre2, exampleIngre3\" #@param {type:\"string\"}\n",
        "Recipe = \"example text\"#@param {type:\"string\"}\n",
        "Stock =  33 #@param {type:\"slider\", min:1, max:80, step:1}\n",
        "Price = 10 #@param {type: \"number\"}\n",
        "\n"
      ],
      "metadata": {
        "id": "uBZUrnOsuSew"
      },
      "execution_count": null,
      "outputs": []
    },
    {
      "cell_type": "code",
      "source": [
        "cake = {  'name' : Name ,\n",
        "          'shortDescription' : ShortDescription,\n",
        "          'description' : Description,\n",
        "          'image' : Image,\n",
        "          'ingredients' : Ingredient.split(\",\"),\n",
        "          'recipe' : Recipe,\n",
        "          'stock' : Stock,\n",
        "          'price' : Price\n",
        "       }\n",
        "\n",
        "if len(list(db.Cakes.find({'name' : cake['name']}))) > 0 :\n",
        "  print(\"The cake already existed replacing instead\")\n",
        "  print(db.Cakes.replace_one({'name': cake['name']}, cake))\n",
        "else :\n",
        "  print(db.Cakes.insert_one(cake))\n"
      ],
      "metadata": {
        "id": "LkPEYN21Kg62"
      },
      "execution_count": null,
      "outputs": []
    },
    {
      "cell_type": "code",
      "source": [
        "#@title Customer Info\n",
        "\n",
        "#@markdown Name\n",
        "Name = \"Mark\" #@param {type:\"string\"}\n",
        "LastName = \"Kuprasertwong\" #@param {type:\"string\"}\n",
        "\n",
        "#@markdown Address\n",
        "Address = \"example\" #@param {type:\"string\"}\n",
        "Country = \"Thailand\" #@param {type:\"string\"}\n",
        "City = \"example\" #@param {type:\"string\"}\n",
        "Province = \"example\" #@param {type :\"string\"}\n",
        "PostalCode = \"73170\" #@param {type:\"string\"}\n",
        "\n",
        "#@markdown Contact information\n",
        "Email = \"example@email.com\" #@param {type:\"string\"}\n",
        "Phone = \"0850000000\" #@param {type:\"string\"}\n"
      ],
      "metadata": {
        "id": "Y15083jivK6x"
      },
      "execution_count": null,
      "outputs": []
    },
    {
      "cell_type": "code",
      "source": [
        "customerInfo = {\n",
        "    'name' : Name,\n",
        "    'lastName' : LastName,\n",
        "    'address' : Address,\n",
        "    'country' : Country,\n",
        "    'city' : City,\n",
        "    'province' : Province,\n",
        "    'postalCode' : PostalCode,\n",
        "    'email' : Email,\n",
        "    'phone' : Phone }\n",
        "\n",
        "if len(list(db.addressbook.find({'name' : customerInfo['name'],\n",
        "                                'lastName' : customerInfo['lastName']}))) > 0 :\n",
        "  print(\"The info already existed replacing instead\")\n",
        "  print(db.addressbook.replace_one({'name' : customerInfo['name'],\n",
        "                                'lastName' : customerInfo['lastName']}, customerInfo))\n",
        "else :\n",
        "  print(\"the info not existed\")\n",
        "  print(db.addressbook.insert_one(customerInfo))"
      ],
      "metadata": {
        "id": "ETe8Fa2YNULU",
        "colab": {
          "base_uri": "https://localhost:8080/"
        },
        "outputId": "47f6c915-801d-47b2-cc33-79a61da46796"
      },
      "execution_count": null,
      "outputs": [
        {
          "output_type": "stream",
          "name": "stdout",
          "text": [
            "the info not existed\n",
            "InsertOneResult(ObjectId('6648b5b407e347e5fd7dba24'), acknowledged=True)\n"
          ]
        }
      ]
    },
    {
      "cell_type": "code",
      "source": [
        "#@title Order information\n",
        "\n",
        "CustomerName = \"Mark\" #@param {type:\"string\"}\n",
        "LastName = \"Kuprasertwong\" #@param {type:\"string\"}\n",
        "Cake = \"Cheese Cake\"#@param {type:\"string\"}\n",
        "Quantity = 2 #@param {type:\"integer\"}\n",
        "OrderDate = '2024-05-16' #@param {type:\"date\"}\n",
        "RetrieveDate = '2024-05-16' #@param {type:\"date\"}\n",
        "RetrieveOption = \"Pickup\" #@param [\"Pickup\", \"Delivery\"]\n"
      ],
      "metadata": {
        "id": "TZAZqX_q4cGU"
      },
      "execution_count": null,
      "outputs": []
    },
    {
      "cell_type": "code",
      "source": [
        "orderedCake = db.Cakes.find_one({'name': Cake})\n",
        "\n",
        "order = {\n",
        "    'customerName' : CustomerName,\n",
        "    'lastName' : LastName,\n",
        "    'cake' : Cake,\n",
        "    'quantity' : Quantity,\n",
        "    'subTotal' : orderedCake['price'] * Quantity,\n",
        "    'orderDate' : OrderDate ,\n",
        "    'retrieveDate' : RetrieveDate,\n",
        "    'retrieveOption' : RetrieveOption\n",
        "}\n",
        "\n",
        "\n",
        "\n",
        "if db.Cakes.find_one({'name': order['cake']}) is not None :\n",
        "  updatedCake = db.Cakes.find_one_and_update({'name': order['cake']},\n",
        "                      {'$inc': {'stock': -Quantity if orderedCake['stock'] > 0 and orderedCake['stock'] > Quantity else 0 }},\n",
        "                      return_document=True)\n",
        "  if orderedCake['stock'] < 0 :\n",
        "     print(f\"{order['cake']} is out of stock\")\n",
        "  elif orderedCake['stock'] < Quantity :\n",
        "    print(f\"{order['cake']} quantity is not enough\")\n",
        "  else:\n",
        "    print(db.order.insert_one(order))\n",
        "    print(\"Stock updated:\", updatedCake)\n",
        "else :\n",
        "  print(f\"error no {order['cake']} in the shop\")\n",
        "\n"
      ],
      "metadata": {
        "id": "fWL9mehazhgf",
        "colab": {
          "base_uri": "https://localhost:8080/"
        },
        "outputId": "64f352b1-2e08-4eb6-b3cd-dc7daac7e7ac"
      },
      "execution_count": null,
      "outputs": [
        {
          "output_type": "stream",
          "name": "stdout",
          "text": [
            "InsertOneResult(ObjectId('6648b4df07e347e5fd7dba22'), acknowledged=True)\n",
            "Stock updated: {'_id': ObjectId('64759e4c3beb40594cb859ed'), 'name': 'Cheese Cake', 'shortDescription': 'Cheesecake is a sweet dessert consisting of one or more layers. The main, and thickest, layer consists of a mixture of a soft, fresh cheese (typically cottage cheese, cream cheese or ricotta), eggs, and sugar. ', 'description': 'Cheesecake is a sweet dessert consisting of one or more layers. The main, and thickest, layer consists of a mixture of a soft, fresh cheese (typically cottage cheese, cream cheese or ricotta), eggs, and sugar. If there is a bottom layer, it most often consists of a crust or base made from crushed cookies (or digestive biscuits), graham crackers, pastry, or sometimes sponge cake.[1] Cheesecake may be baked or unbaked (and is usually refrigerated).', 'image': 'https://sallysbakingaddiction.com/wp-content/uploads/2018/05/perfect-cheesecake-recipe.jpg', 'ingredients': ['graham cracker crumbs', 'sugar', 'eggs', 'butter', 'sour cream', 'cream cheese', 'vanilla extract'], 'recipe': 'Mix graham cracker crumbs and melted butter for the crust. Press into a pan. Beat cream cheese, sugar, and vanilla. Fold in whipped cream. Pour over the crust. Refrigerate until set, remove from pan, and serve chilled with desired toppings.', 'stock': 38, 'price': 10}\n"
          ]
        }
      ]
    },
    {
      "cell_type": "code",
      "source": [
        "#@title Search\n",
        "\n",
        "#seach cake info\n",
        "SearchCake = \"Chocolate Cake\" #@param {type:\"string\"}\n",
        "\n",
        "#search order by cake name\n",
        "SearchCakeOrder = \"Chocolate Cake\" #@param {type : \"string\"}\n",
        "\n",
        "#search customer information\n",
        "SearchCustomerInfo = \"exampleName exampleLastName\" #@param {type : \"string\"}\n",
        "\n",
        "#search order by customer order\n",
        "SearchCustomerOrder = \"Mark Kuprasertwong\" #@param {type : \"string\"}\n",
        "\n",
        "#<--------------------------------------------------------------------------->\n",
        "#Search cake by name in database\n",
        "if SearchCake is not None and SearchCake != \"\":\n",
        "  result = db.Cakes.find_one({'name' : SearchCake})\n",
        "  if result is not None:\n",
        "    print(\"Cake info : \")\n",
        "    print(result)\n",
        "  else:\n",
        "    print(f\"no {SearchCake} cake in database\")\n",
        "\n",
        "#<--------------------------------------------------------------------------->\n",
        "#Search order by cake in database\n",
        "if SearchCakeOrder is not None and SearchCakeOrder != \"\":\n",
        "  result = db.order.find({'cake' : SearchCakeOrder})\n",
        "  if result is not None:\n",
        "    print(\"Cakes in orders :\")\n",
        "    for item in list(result):\n",
        "      print(item)\n",
        "  else:\n",
        "    print(f\"no {SearchCakeOrder} cake in order\")\n",
        "\n",
        "#<--------------------------------------------------------------------------->\n",
        "#Search customer info by [name lastname] in database\n",
        "if SearchCustomerInfo is not None and SearchCustomerInfo != \"\":\n",
        "  customerNameLastname = SearchCustomerInfo.split()\n",
        "  if len(customerNameLastname) > 1 :\n",
        "    result = db.addressbook.find_one({'name' : customerNameLastname[0],\n",
        "                                'lastName' : customerNameLastname[1]})\n",
        "    if result is not None:\n",
        "      print(\"Cutomer info : \")\n",
        "      print(result)\n",
        "    else:\n",
        "      print(f\"no {SearchCustomerInfo} customer in database\")\n",
        "  else:\n",
        "    print(\"Customer info's format is incorrect\")\n",
        "\n",
        "#<--------------------------------------------------------------------------->\n",
        "#Search order by [name lastname] in database\n",
        "if SearchCustomerOrder is not None and SearchCustomerOrder != \"\":\n",
        "  customerNameLastname = SearchCustomerOrder.split()\n",
        "  if len(customerNameLastname) > 1 :\n",
        "    result = db.order.find({'customerName' : customerNameLastname[0],\n",
        "                                'lastName' : customerNameLastname[1]})\n",
        "    if result is not None:\n",
        "      print(f\"Customer [{SearchCustomerOrder}]'s order :\")\n",
        "      for item in list(result):\n",
        "        print(item)\n",
        "    else:\n",
        "      print(f\"no [{SearchCustomerOrder}]'s order in database\")\n",
        "  else:\n",
        "    print(\"Customer info's format is incorrect\")"
      ],
      "metadata": {
        "id": "jv8y2MrHdoOT",
        "colab": {
          "base_uri": "https://localhost:8080/"
        },
        "outputId": "7c988a7b-6e78-4191-ab7e-880cf8e81b47"
      },
      "execution_count": null,
      "outputs": [
        {
          "output_type": "stream",
          "name": "stdout",
          "text": [
            "Cake info : \n",
            "{'_id': ObjectId('64759d513beb40594cb859e9'), 'name': 'Chocolate Cake', 'shortDescription': 'Chocolate cake is a cake flavored with melted chocolate, cocoa powder, or sometimes both.', 'description': 'Chocolate cake is made with chocolate; it can be made with other ingredients, as well. These ingredients include fudge, vanilla creme, and other sweeteners. The history of chocolate cake goes back to 1764, when Dr. James Baker discovered how to make chocolate by grinding cocoa beans between two massive circular millstones.', 'image': 'https://addapinch.com/wp-content/uploads/2020/04/chocolate-cake-DSC_1768.jpg', 'ingredients': ['flour', 'sugar', 'cocoa powder'], 'recipe': 'Preheat your oven to the specified temperature and prepare a greased cake pan. Mix the dry and wet ingredients separately, then combine and pour the batter into the pan. Bake for the recommended time, let it cool, and optionally frost or decorate as desired.', 'stock': 13, 'price': 20}\n",
            "Cakes in orders :\n",
            "{'_id': ObjectId('6648b15007e347e5fd7dba1e'), 'customerName': 'exampleName', 'lastName': 'exampleLastName', 'cake': 'Chocolate Cake', 'quantity': 2, 'subTotal': 40, 'orderDate': '2024-05-16', 'retrieveDate': '2024-05-16', 'retrieveOption': 'Delivery'}\n",
            "{'_id': ObjectId('6648b1a907e347e5fd7dba1f'), 'customerName': 'exampleName', 'lastName': 'exampleLastName', 'cake': 'Chocolate Cake', 'quantity': 2, 'subTotal': 40, 'orderDate': '2024-05-16', 'retrieveDate': '2024-05-16', 'retrieveOption': 'Delivery'}\n",
            "Cutomer info : \n",
            "{'_id': ObjectId('66463bb41b0f9778a7d7376b'), 'name': 'exampleName', 'lastName': 'exampleLastName', 'address': 'example', 'country': 'Thailand', 'city': 'example', 'province': 'example', 'postalCode': '73170', 'email': 'example@email.com', 'phone': '0850000000'}\n",
            "Customer [Mark Kuprasertwong]'s order :\n",
            "{'_id': ObjectId('6648b4df07e347e5fd7dba22'), 'customerName': 'Mark', 'lastName': 'Kuprasertwong', 'cake': 'Cheese Cake', 'quantity': 2, 'subTotal': 20, 'orderDate': '2024-05-16', 'retrieveDate': '2024-05-16', 'retrieveOption': 'Pickup'}\n"
          ]
        }
      ]
    }
  ]
}